{
  "nbformat": 4,
  "nbformat_minor": 0,
  "metadata": {
    "colab": {
      "name": "Copy of csvToFirestore.ipynb",
      "provenance": [],
      "collapsed_sections": [],
      "authorship_tag": "ABX9TyOS/ygksSNtuG50uQSsViFa",
      "include_colab_link": true
    },
    "kernelspec": {
      "name": "python3",
      "display_name": "Python 3"
    },
    "language_info": {
      "name": "python"
    }
  },
  "cells": [
    {
      "cell_type": "markdown",
      "metadata": {
        "id": "view-in-github",
        "colab_type": "text"
      },
      "source": [
        "<a href=\"https://colab.research.google.com/github/pandaLabOS/firestore-migrator/blob/master/Copy_of_csvToFirestore.ipynb\" target=\"_parent\"><img src=\"https://colab.research.google.com/assets/colab-badge.svg\" alt=\"Open In Colab\"/></a>"
      ]
    },
    {
      "cell_type": "markdown",
      "source": [
        "#To Read\n",
        "##Tutorials and Documentation\n",
        "[Importing data into Firestore using Python Part 2: Data Types](https://brannen.dev/importing-data-into-firestore-using-python-part-2-data-types/)\n",
        "\n",
        "[CSV to array in Firestore](https://stackoverflow.com/questions/62368238/importing-an-array-from-csv-to-firestore)\n",
        "\n",
        "[Supported datatypes in Firestore](https://firebase.google.com/docs/firestore/data-model)"
      ],
      "metadata": {
        "id": "_wOhllFBsikk"
      }
    },
    {
      "cell_type": "code",
      "execution_count": null,
      "metadata": {
        "colab": {
          "base_uri": "https://localhost:8080/"
        },
        "id": "SM7QnYvYnFCb",
        "outputId": "b50075ff-8e99-4897-81f8-2f841ebe6559"
      },
      "outputs": [
        {
          "output_type": "stream",
          "name": "stdout",
          "text": [
            "Mounted at /content/gdrive\n"
          ]
        }
      ],
      "source": [
        "from google.colab import drive\n",
        "drive.mount('/content/gdrive')"
      ]
    },
    {
      "cell_type": "code",
      "source": [
        "%cd/content/gdrive/My\\Drive/Colab\\ Notebooks/\"Senior Project 1\""
      ],
      "metadata": {
        "colab": {
          "base_uri": "https://localhost:8080/"
        },
        "id": "EfAfXt-3nYU3",
        "outputId": "70f2d71c-987f-4773-f46f-797cf3e5da32"
      },
      "execution_count": null,
      "outputs": [
        {
          "output_type": "stream",
          "name": "stdout",
          "text": [
            "/content/gdrive/MyDrive/Colab Notebooks/Senior Project 1\n"
          ]
        }
      ]
    },
    {
      "cell_type": "markdown",
      "source": [
        "#Python program to add data from csv files to Firestore\n",
        "Source: \n",
        "- https://brannen.dev/importing-data-into-firestore-using-python-part-1/\n",
        "- https://brannen.dev/importing-data-into-firestore-using-python-part-2-data-types/ \n"
      ],
      "metadata": {
        "id": "ZjmDFJocoZta"
      }
    },
    {
      "cell_type": "code",
      "source": [
        "!pip install firebase-admin google-cloud-firestore"
      ],
      "metadata": {
        "id": "dA7K6qiGnkJT",
        "colab": {
          "base_uri": "https://localhost:8080/"
        },
        "outputId": "2f8ff2c4-1615-4c1c-8bd4-b1e39337902f"
      },
      "execution_count": null,
      "outputs": [
        {
          "output_type": "stream",
          "name": "stdout",
          "text": [
            "Requirement already satisfied: firebase-admin in /usr/local/lib/python3.7/dist-packages (4.4.0)\n",
            "Requirement already satisfied: google-cloud-firestore in /usr/local/lib/python3.7/dist-packages (1.7.0)\n",
            "Requirement already satisfied: google-cloud-storage>=1.18.0 in /usr/local/lib/python3.7/dist-packages (from firebase-admin) (1.18.1)\n",
            "Requirement already satisfied: google-api-python-client>=1.7.8 in /usr/local/lib/python3.7/dist-packages (from firebase-admin) (1.12.8)\n",
            "Requirement already satisfied: google-api-core[grpc]<2.0.0dev,>=1.14.0 in /usr/local/lib/python3.7/dist-packages (from firebase-admin) (1.26.3)\n",
            "Requirement already satisfied: cachecontrol>=0.12.6 in /usr/local/lib/python3.7/dist-packages (from firebase-admin) (0.12.10)\n",
            "Requirement already satisfied: pytz in /usr/local/lib/python3.7/dist-packages (from google-cloud-firestore) (2018.9)\n",
            "Requirement already satisfied: google-cloud-core<2.0dev,>=1.0.3 in /usr/local/lib/python3.7/dist-packages (from google-cloud-firestore) (1.0.3)\n",
            "Requirement already satisfied: requests in /usr/local/lib/python3.7/dist-packages (from cachecontrol>=0.12.6->firebase-admin) (2.23.0)\n",
            "Requirement already satisfied: msgpack>=0.5.2 in /usr/local/lib/python3.7/dist-packages (from cachecontrol>=0.12.6->firebase-admin) (1.0.3)\n",
            "Requirement already satisfied: google-auth<2.0dev,>=1.21.1 in /usr/local/lib/python3.7/dist-packages (from google-api-core[grpc]<2.0.0dev,>=1.14.0->firebase-admin) (1.35.0)\n",
            "Requirement already satisfied: six>=1.13.0 in /usr/local/lib/python3.7/dist-packages (from google-api-core[grpc]<2.0.0dev,>=1.14.0->firebase-admin) (1.15.0)\n",
            "Requirement already satisfied: googleapis-common-protos<2.0dev,>=1.6.0 in /usr/local/lib/python3.7/dist-packages (from google-api-core[grpc]<2.0.0dev,>=1.14.0->firebase-admin) (1.53.0)\n",
            "Requirement already satisfied: packaging>=14.3 in /usr/local/lib/python3.7/dist-packages (from google-api-core[grpc]<2.0.0dev,>=1.14.0->firebase-admin) (21.3)\n",
            "Requirement already satisfied: setuptools>=40.3.0 in /usr/local/lib/python3.7/dist-packages (from google-api-core[grpc]<2.0.0dev,>=1.14.0->firebase-admin) (57.4.0)\n",
            "Requirement already satisfied: protobuf>=3.12.0 in /usr/local/lib/python3.7/dist-packages (from google-api-core[grpc]<2.0.0dev,>=1.14.0->firebase-admin) (3.17.3)\n",
            "Requirement already satisfied: grpcio<2.0dev,>=1.29.0 in /usr/local/lib/python3.7/dist-packages (from google-api-core[grpc]<2.0.0dev,>=1.14.0->firebase-admin) (1.42.0)\n",
            "Requirement already satisfied: httplib2<1dev,>=0.15.0 in /usr/local/lib/python3.7/dist-packages (from google-api-python-client>=1.7.8->firebase-admin) (0.17.4)\n",
            "Requirement already satisfied: uritemplate<4dev,>=3.0.0 in /usr/local/lib/python3.7/dist-packages (from google-api-python-client>=1.7.8->firebase-admin) (3.0.1)\n",
            "Requirement already satisfied: google-auth-httplib2>=0.0.3 in /usr/local/lib/python3.7/dist-packages (from google-api-python-client>=1.7.8->firebase-admin) (0.0.4)\n",
            "Requirement already satisfied: rsa<5,>=3.1.4 in /usr/local/lib/python3.7/dist-packages (from google-auth<2.0dev,>=1.21.1->google-api-core[grpc]<2.0.0dev,>=1.14.0->firebase-admin) (4.8)\n",
            "Requirement already satisfied: cachetools<5.0,>=2.0.0 in /usr/local/lib/python3.7/dist-packages (from google-auth<2.0dev,>=1.21.1->google-api-core[grpc]<2.0.0dev,>=1.14.0->firebase-admin) (4.2.4)\n",
            "Requirement already satisfied: pyasn1-modules>=0.2.1 in /usr/local/lib/python3.7/dist-packages (from google-auth<2.0dev,>=1.21.1->google-api-core[grpc]<2.0.0dev,>=1.14.0->firebase-admin) (0.2.8)\n",
            "Requirement already satisfied: google-resumable-media<0.5.0dev,>=0.3.1 in /usr/local/lib/python3.7/dist-packages (from google-cloud-storage>=1.18.0->firebase-admin) (0.4.1)\n",
            "Requirement already satisfied: pyparsing!=3.0.5,>=2.0.2 in /usr/local/lib/python3.7/dist-packages (from packaging>=14.3->google-api-core[grpc]<2.0.0dev,>=1.14.0->firebase-admin) (3.0.6)\n",
            "Requirement already satisfied: pyasn1<0.5.0,>=0.4.6 in /usr/local/lib/python3.7/dist-packages (from pyasn1-modules>=0.2.1->google-auth<2.0dev,>=1.21.1->google-api-core[grpc]<2.0.0dev,>=1.14.0->firebase-admin) (0.4.8)\n",
            "Requirement already satisfied: idna<3,>=2.5 in /usr/local/lib/python3.7/dist-packages (from requests->cachecontrol>=0.12.6->firebase-admin) (2.10)\n",
            "Requirement already satisfied: chardet<4,>=3.0.2 in /usr/local/lib/python3.7/dist-packages (from requests->cachecontrol>=0.12.6->firebase-admin) (3.0.4)\n",
            "Requirement already satisfied: urllib3!=1.25.0,!=1.25.1,<1.26,>=1.21.1 in /usr/local/lib/python3.7/dist-packages (from requests->cachecontrol>=0.12.6->firebase-admin) (1.24.3)\n",
            "Requirement already satisfied: certifi>=2017.4.17 in /usr/local/lib/python3.7/dist-packages (from requests->cachecontrol>=0.12.6->firebase-admin) (2021.10.8)\n"
          ]
        }
      ]
    },
    {
      "cell_type": "code",
      "source": [
        "import csv\n",
        "import firebase_admin\n",
        "import google.cloud\n",
        "from firebase_admin import credentials, firestore"
      ],
      "metadata": {
        "id": "ObbuOs1w4BS-"
      },
      "execution_count": null,
      "outputs": []
    },
    {
      "cell_type": "code",
      "source": [
        "cred = credentials.Certificate(\"./credentials_senior1.json\")\n",
        "app = firebase_admin.initialize_app(cred, options = {})\n",
        "\n",
        "store = firestore.client()"
      ],
      "metadata": {
        "colab": {
          "base_uri": "https://localhost:8080/",
          "height": 371
        },
        "id": "qaenWZXlnmrH",
        "outputId": "f8cff85c-55cf-4018-c5c8-71d211049e7c"
      },
      "execution_count": null,
      "outputs": [
        {
          "output_type": "error",
          "ename": "ValueError",
          "evalue": "ignored",
          "traceback": [
            "\u001b[0;31m---------------------------------------------------------------------------\u001b[0m",
            "\u001b[0;31mValueError\u001b[0m                                Traceback (most recent call last)",
            "\u001b[0;32m<ipython-input-77-8e3961d2df37>\u001b[0m in \u001b[0;36m<module>\u001b[0;34m()\u001b[0m\n\u001b[1;32m      1\u001b[0m \u001b[0mcred\u001b[0m \u001b[0;34m=\u001b[0m \u001b[0mcredentials\u001b[0m\u001b[0;34m.\u001b[0m\u001b[0mCertificate\u001b[0m\u001b[0;34m(\u001b[0m\u001b[0;34m\"./credentials_senior1.json\"\u001b[0m\u001b[0;34m)\u001b[0m\u001b[0;34m\u001b[0m\u001b[0;34m\u001b[0m\u001b[0m\n\u001b[0;32m----> 2\u001b[0;31m \u001b[0mapp\u001b[0m \u001b[0;34m=\u001b[0m \u001b[0mfirebase_admin\u001b[0m\u001b[0;34m.\u001b[0m\u001b[0minitialize_app\u001b[0m\u001b[0;34m(\u001b[0m\u001b[0mcred\u001b[0m\u001b[0;34m,\u001b[0m \u001b[0moptions\u001b[0m \u001b[0;34m=\u001b[0m \u001b[0;34m{\u001b[0m\u001b[0;34m}\u001b[0m\u001b[0;34m)\u001b[0m\u001b[0;34m\u001b[0m\u001b[0;34m\u001b[0m\u001b[0m\n\u001b[0m\u001b[1;32m      3\u001b[0m \u001b[0;34m\u001b[0m\u001b[0m\n\u001b[1;32m      4\u001b[0m \u001b[0mstore\u001b[0m \u001b[0;34m=\u001b[0m \u001b[0mfirestore\u001b[0m\u001b[0;34m.\u001b[0m\u001b[0mclient\u001b[0m\u001b[0;34m(\u001b[0m\u001b[0;34m)\u001b[0m\u001b[0;34m\u001b[0m\u001b[0;34m\u001b[0m\u001b[0m\n",
            "\u001b[0;32m/usr/local/lib/python3.7/dist-packages/firebase_admin/__init__.py\u001b[0m in \u001b[0;36minitialize_app\u001b[0;34m(credential, options, name)\u001b[0m\n\u001b[1;32m     70\u001b[0m     \u001b[0;32mif\u001b[0m \u001b[0mname\u001b[0m \u001b[0;34m==\u001b[0m \u001b[0m_DEFAULT_APP_NAME\u001b[0m\u001b[0;34m:\u001b[0m\u001b[0;34m\u001b[0m\u001b[0;34m\u001b[0m\u001b[0m\n\u001b[1;32m     71\u001b[0m         raise ValueError((\n\u001b[0;32m---> 72\u001b[0;31m             \u001b[0;34m'The default Firebase app already exists. This means you called '\u001b[0m\u001b[0;34m\u001b[0m\u001b[0;34m\u001b[0m\u001b[0m\n\u001b[0m\u001b[1;32m     73\u001b[0m             \u001b[0;34m'initialize_app() more than once without providing an app name as '\u001b[0m\u001b[0;34m\u001b[0m\u001b[0;34m\u001b[0m\u001b[0m\n\u001b[1;32m     74\u001b[0m             \u001b[0;34m'the second argument. In most cases you only need to call '\u001b[0m\u001b[0;34m\u001b[0m\u001b[0;34m\u001b[0m\u001b[0m\n",
            "\u001b[0;31mValueError\u001b[0m: The default Firebase app already exists. This means you called initialize_app() more than once without providing an app name as the second argument. In most cases you only need to call initialize_app() once. But if you do want to initialize multiple apps, pass a second argument to initialize_app() to give each app a unique name."
          ]
        }
      ]
    },
    {
      "cell_type": "code",
      "source": [
        "cred2 = credentials.Certificate(\"./credentials_senior1Alex.json\")\n",
        "app = firebase_admin.initialize_app(cred2)\n",
        "\n",
        "store = firestore.client()"
      ],
      "metadata": {
        "id": "h-gqA16x39VJ"
      },
      "execution_count": null,
      "outputs": []
    },
    {
      "cell_type": "code",
      "source": [
        "file_path = \"DrinksDatabase.csv\"\n",
        "collection_name = \"products\""
      ],
      "metadata": {
        "id": "Td7_7aPKoIH1"
      },
      "execution_count": null,
      "outputs": []
    },
    {
      "cell_type": "code",
      "source": [
        "def batch_data(iterable, n=1):\n",
        "    l = len(iterable)\n",
        "    for ndx in range(0, l, n):\n",
        "        yield iterable[ndx:min(ndx + n, l)]\n",
        "\n",
        "\n",
        "def get_data_item(item, data_type):\n",
        "\t# Add other data types you want to handle here\n",
        "    if data_type == 'int':\n",
        "        return int(item)\n",
        "    elif data_type == 'float':\n",
        "        return float(item)\n",
        "    elif data_type == 'string':\n",
        "        return str(item)\n",
        "    elif data_type == 'bool':\n",
        "        return bool(item)\n",
        "    elif data_type == 'array':\n",
        "        array = list(map(str, item.split(\" \")))\n",
        "        array.pop()\n",
        "        return array\n",
        "    elif data_type == 'map':\n",
        "        return dict(item)\n",
        "    else:\n",
        "        return item\n",
        "\n",
        "#firestore map = dict\n",
        "\n",
        "data = []\n",
        "headers = []\n",
        "data_types = []\n",
        "\n",
        "with open(file_path) as csv_file:\n",
        "    csv_reader = csv.reader(csv_file, delimiter=',')\n",
        "    line_count = 0\n",
        "    for row in csv_reader:\n",
        "        print(row)\n",
        "        if line_count == 0:\n",
        "            for header in row:\n",
        "                headers.append(header)\n",
        "            line_count += 1\n",
        "        elif line_count == 1:\n",
        "            for data_type in row:\n",
        "                data_types.append(data_type)\n",
        "            line_count += 1\n",
        "        else:\n",
        "            obj = {}\n",
        "            for index, item in enumerate(row):\n",
        "                obj[headers[index]] = get_data_item(item, data_types[index])\n",
        "            data.append(obj)\n",
        "            line_count += 1\n",
        "    print(f'Processed {line_count} lines.')\n",
        "\n",
        "for batched_data in batch_data(data, 499):\n",
        "    batch = store.batch()\n",
        "    for data_item in batched_data:\n",
        "        doc_ref = store.collection(collection_name).document(data_item.get(\"Product Code\"))\n",
        "        batch.set(doc_ref, data_item)\n",
        "    batch.commit()\n",
        "\n",
        "print('Done')"
      ],
      "metadata": {
        "colab": {
          "base_uri": "https://localhost:8080/"
        },
        "id": "I4s8gtTZpJbK",
        "outputId": "f0ea3d66-cc99-406c-c0b2-8ece29129818"
      },
      "execution_count": null,
      "outputs": [
        {
          "output_type": "stream",
          "name": "stdout",
          "text": [
            "['\\ufeffItemNo', 'Product Code', 'Product Name', 'Retail', 'Barcode', 'Alc.', 'Unit', 'Size', 'Subtype_TH', 'Type_TH', 'Subtype_EN', 'Type_EN', 'Occasion_List']\n",
            "['int', 'string', 'string', 'int', 'string', 'float', 'string', 'int', 'string', 'string', 'string', 'string', 'array']\n",
            "['1', 'SPW01-VFT', 'Villafresno Tinto', '450', '885 92732 0000 4', '0.12', 'Bottle', '750', 'ไวน์แดง', 'ไวน์', 'Red Wine', 'Wine', 'Casual Dinner ']\n",
            "['2', 'SPW01-VFB', 'Villafresno Blanco', '450', '885 92732 0001 1', '0.12', 'Bottle', '750', 'ไวน์ขาว', 'ไวน์', 'White Wine', 'Wine', 'Casual Dinner ']\n",
            "['3', 'SPW01-VFS', 'Villafresno Rosado', '450', '885 92732 0002 8', '0.12', 'Bottle', '750', 'ไวน์โรเซ่', 'ไวน์', 'Rose Wine', 'Wine', 'Casual Dinner ']\n",
            "['4', 'SPW01-IRE', 'Irene ', '465', '885 92732 0007 3', '0.11', 'Bottle', '750', 'ไวน์สปาร์คกลิ้ง', 'ไวน์', 'Sparkling Wine', 'Wine', 'Anniversary Birthday Celebration Dinner ']\n",
            "['5', 'SPW01-SLR', 'Solero Sangria ', '410', '885 92732 0003 5', '0.07', 'Bottle', '1000', 'แซงเกรีย', 'สุราแช่ (แซงเกรีย)', 'Sangria', 'Sangria', 'Birthday Casual Celebration Dinner ']\n",
            "['6', 'SPW02-SOT', 'Sonsierra Seleccion Tinto', '720', '885 92732 0084 4', '0.13', 'Bottle', '750', 'ไวน์แดง', 'ไวน์', 'Red Wine', 'Wine', 'Casual Dinner ']\n",
            "['7', 'SPW02-SOW', 'Sonsierra Seleccion Blanco', '720', '885 92732 0085 1', '0.125', 'Bottle', '750', 'ไวน์ขาว', 'ไวน์', 'White Wine', 'Wine', 'Casual Dinner ']\n",
            "['8', 'SPW02-SOS', 'Sonsierra Seleccion Rose', '720', '885 92732 0086 8', '0.12', 'Bottle', '750', 'ไวน์โรเซ่', 'ไวน์', 'Rose Wine', 'Wine', 'Birthday Casual ']\n",
            "['9', 'SPW02-ANDRO', 'Sonsierra Androsela (Sweet)', '730', '885 92732 0087 5', '0.105', 'Bottle', '750', 'ไวน์หวาน', 'ไวน์', 'Semi-Sweet Wine', 'Wine', 'Anniversary Birthday Casual ']\n",
            "['10', 'SPW02-SOC', 'Sonsierra Crianza', '890', '885 92732 0088 2', '0.135', 'Bottle', '750', 'ไวน์แดง', 'ไวน์', 'Red Wine', 'Wine', 'Anniversary Birthday Dinner ']\n",
            "['11', 'SPW02-CSE', 'Sonsierra Crianza Selected Harvest', '930', '885 92732 0089 9', '0.135', 'Bottle', '750', 'ไวน์แดง', 'ไวน์', 'Red Wine', 'Wine', 'Anniversary Birthday Celebration Dinner ']\n",
            "['12', 'SPW02-SOR', 'Sonsierra Reserva', '960', '885 92732 0090 5', '0.135', 'Bottle', '750', 'ไวน์แดง', 'ไวน์', 'Red Wine', 'Wine', 'Anniversary Birthday Casual Dinner ']\n",
            "['13', 'SPW02-WTEM', 'Sonsierra White Tempranillo', '750', '885 92732 0091 2', '0.12', 'Bottle', '750', 'ไวน์ขาว', 'ไวน์', 'White Wine', 'Wine', 'Casual Dinner ']\n",
            "['14', 'SPW02-WTEM2', 'Sonsierra White (Barrel)', '960', '885 92732 0092 9', '0.12', 'Bottle', '750', 'ไวน์ขาว', 'ไวน์', 'White Wine', 'Wine', 'Anniversary Birthday Celebration ']\n",
            "['15', 'SPW02-PAGOS', 'Pagos Sonsierra (Reserva)', '2120', '885 92732 0093 6', '0.135', 'Bottle', '750', 'ไวน์แดง', 'ไวน์', 'Red Wine', 'Wine', 'Anniversary Birthday Celebration Dinner ']\n",
            "['16', 'SPW02-PERFUME', 'Perfume de la Sonsierra', '3400', '885 92732 0094 3', '0.12', 'Bottle', '750', 'ไวน์แดง', 'ไวน์', 'Red Wine', 'Wine', 'Anniversary Birthday Celebration ']\n",
            "['17', 'SPW02-SOG', 'Sonsierra Gran Reserva', '2750', '885 92732 0095 0', '0.121', 'Bottle', '750', 'ไวน์แดง', 'ไวน์', 'Red Wine', 'Wine', 'Anniversary Birthday Casual ']\n",
            "['18', 'SPW02-VIURA', 'Sonsierra Viura', '2500', '885 92732 0096 7', '0.135', 'Bottle', '750', 'ไวน์ขาว', 'ไวน์', 'White Wine', 'Wine', 'Casual ']\n",
            "['19', 'ITLW01-CBN', 'Cabernet', '1450', '885 92732 0140 7', '0.14', 'Bottle', '750', 'ไวน์แดง', 'ไวน์', 'Red Wine', 'Wine', 'Anniversary Birthday Dinner ']\n",
            "['20', 'ITLW01-SBN', 'Sibane Piemonte DOC', '1450', '885 92732 0139 1', '0.15', 'Bottle', '750', 'ไวน์แดง', 'ไวน์', 'Red Wine', 'Wine', 'Anniversary Birthday Dinner ']\n",
            "['21', 'ITLW01-STLC', \"Santa Lucrezia - Cisterna d'Asti DOC Superiore\", '1790', '885 92732 0008 0', '0.14', 'Bottle', '750', 'ไวน์แดง', 'ไวน์', 'Red Wine', 'Wine', 'Anniversary Birthday Casual Celebration Dinner ']\n",
            "['22', 'ITLW01-TUM', 'Tumlin Roero DOCG', '1470', '885 92732 0043 1', '0.14', 'Bottle', '750', 'ไวน์แดง', 'ไวน์', 'Red Wine', 'Wine', 'Anniversary Birthday Casual Celebration Dinner ']\n",
            "['23', 'ITLW01-GARA', \"Garavagna Barbera d'Alba DOC Superiore\", '1250', '885 92732 0107 0', '0.14', 'Bottle', '750', 'ไวน์แดง', 'ไวน์', 'Red Wine', 'Wine', 'Birthday Dinner ']\n",
            "['24', 'ITLW01-MABAR', \"Marida - Barbera d'Asti DOCG\", '920', '885 92732 0009 7', '0.135', 'Bottle', '750', 'ไวน์แดง', 'ไวน์', 'Red Wine', 'Wine', 'Birthday Dinner ']\n",
            "['25', 'ITLW01-DIANE', \"Diane Barbera d'Asti DOCG (no added sulphites)\", '920', '885 92732 0108 7', '0.14', 'Bottle', '750', 'ไวน์แดง', 'ไวน์', 'Red Wine', 'Wine', 'Birthday Dinner ']\n",
            "['26', 'ITLW01-BAR', \"Barbera d'Asti DOCG\", '790', '885 92732 0010 3', '0.13', 'Bottle', '750', 'ไวน์แดง', 'ไวน์', 'Red Wine', 'Wine', 'Casual Dinner ']\n",
            "['27', 'ITLW01-MONDOL', 'Monferrato Dolcetto DOC', '750', '885 92732 0011 0', '0.125', 'Bottle', '750', 'ไวน์แดง', 'ไวน์', 'Red Wine', 'Wine', 'Casual Dinner ']\n",
            "['28', 'ITLW01-TDCRA', 'Terre del Conte - Roero Arneis DOCG', '920', '885 92732 0012 7', '0.13', 'Bottle', '750', 'ไวน์ขาว', 'ไวน์', 'White Wine', 'Wine', 'Casual Dinner ']\n",
            "['29', 'ITLW01-TDLAR', 'Terre del Larame Langhe Favorita DOC', '880', '885 92732 0042 4', '0.125', 'Bottle', '750', 'ไวน์ขาว', 'ไวน์', 'White Wine', 'Wine', 'Casual Dinner ']\n",
            "['30', 'ITLW01-PIMCH', 'Piemonte Chardonnay DOC', '750', '885 92732 0013 4', '0.12', 'Bottle', '750', 'ไวน์ขาว', 'ไวน์', 'White Wine', 'Wine', 'Casual Dinner ']\n",
            "['31', 'ITLW01-MOSSE', \"Moscato d'Asti DOCG sweet semi-sparkling\", '790', '885 92732 0014 1', '0.055', 'Bottle', '750', 'ไวน์สปาร์คกลิ้ง', 'ไวน์', 'Semi-Sparkling Wine', 'Wine', 'Anniversary Birthday Celebration Dinner ']\n",
            "['32', 'ITLW01-BELV', 'Belvive Spumante Brut', '790', '885 92732 0109 4', '0.115', 'Bottle', '750', 'ไวน์สปาร์คกลิ้ง', 'ไวน์', 'Sparkling - Dry', 'Wine', 'Anniversary Birthday Celebration Dinner ']\n",
            "['33', 'ITLW01-MOSPU', 'Moscato Spumante', '780', '885 92732 0015 8', '0.065', 'Bottle', '750', 'ไวน์สปาร์คกลิ้ง', 'ไวน์', 'Sparkling - Sweet', 'Wine', 'Anniversary Birthday Celebration Dinner ']\n",
            "['34', 'ITLW01-MALVA', 'Malvasia Spumante', '780', '885 92732 0044 8', '0.065', 'Bottle', '750', 'ไวน์สปาร์คกลิ้ง', 'ไวน์', 'Sparkling - Rose', 'Wine', 'Anniversary Birthday Celebration Dinner ']\n",
            "['35', 'ITLW01-VILLA', 'Villarita - Brut Spumante', '880', '885 92732 0016 5', '0.125', 'Bottle', '750', 'ไวน์สปาร์คกลิ้ง', 'ไวน์', 'Sparkling - Dry', 'Wine', 'Anniversary Birthday Celebration Dinner ']\n",
            "['36', 'ITLW01-TRAR', 'Tralcio Rosso', '550', '885 92732 0017 2', '0.125', 'Bottle', '750', 'ไวน์แดง', 'ไวน์', 'Red Wine', 'Wine', 'Casual Dinner ']\n",
            "['37', 'ITLW01-TRAW', 'Tralcio Bianco', '550', '885 92732 0018 9', '0.115', 'Bottle', '750', 'ไวน์ขาว', 'ไวน์', 'White Wine', 'Wine', 'Casual Dinner ']\n",
            "['38', 'ITLW01-MOSUVA', \"Mosto d'Uva\", '780', '885 92732 0019 6', '0.045', 'Bottle', '750', 'ไวน์สปาร์คกลิ้ง', 'ไวน์', 'Semi-Sparkling Wine', 'Wine', 'Anniversary Birthday Celebration Dinner ']\n",
            "['39', 'ITLW01-GRAN', 'Gran Rue Metodo Classico', '1550', '885 92732 0110 0', '0.12', 'Bottle', '750', 'ไวน์สปาร์คกลิ้ง', 'ไวน์', 'Sparkling - Dry Wine', 'Wine', 'Anniversary Dinner ']\n",
            "['40', 'ITLW01-GPA', 'Grappa di Arneis', '1550', '885 92732 0040 0', '0.4', 'Bottle', '700', 'บรั่นดี', 'บรั่นดี', 'Brandy', 'Brandy', 'Anniversary Birthday Celebration Dinner ']\n",
            "['41', 'ITLW01-GPN', 'Grappa di Nebbiolo', '1550', '885 92732 0041 7', '0.4', 'Bottle', '700', 'บรั่นดี', 'บรั่นดี', 'Brandy', 'Brandy', 'Anniversary Birthday Celebration Dinner ']\n",
            "['42', 'ITLW01-GPM', 'Grappa di Moscato', '1550', '885 92732 0111 7', '0.4', 'Bottle', '700', 'บรั่นดี', 'บรั่นดี', 'Brandy', 'Brandy', 'Anniversary Birthday Celebration Dinner ']\n",
            "['43', 'ITLW01-GPB', 'Grappa di Bornarda', '1550', '885 92732 0112 4', '0.4', 'Bottle', '700', 'บรั่นดี', 'บรั่นดี', 'Brandy', 'Brandy', 'Anniversary Birthday Celebration Dinner ']\n",
            "['44', 'ITLW02-IGT', 'IGT Toscana', '630', '885 92732 0047 9', '0.12', 'Bottle', '750', 'ไวน์แดง', 'ไวน์', 'Red Wine', 'Wine', 'Casual Dinner ']\n",
            "['45', 'ITLW02-DRUMO', 'Rubbia al Colle Drumo', '790', '885 92732 0048 6', '0.12', 'Bottle', '750', 'ไวน์แดง', 'ไวน์', 'Red Wine', 'Wine', 'Casual Dinner ']\n",
            "['46', 'ITLW02-RABU', 'Rubbia al Colle Rabbuccolo', '790', '885 92732 0049 3', '0.125', 'Bottle', '750', 'ไวน์แดง', 'ไวน์', 'Red Wine', 'Wine', 'Casual Dinner ']\n",
            "['47', 'ITLW02-OLPAIO', 'Rubbia al Colle Olpaio DOCG', '950', '885 92732 0050 9', '0.13', 'Bottle', '750', 'ไวน์แดง', 'ไวน์', 'Red Wine', 'Wine', 'Casual Dinner ']\n",
            "['48', 'ITLW02-MILLE', 'Villa Crespia Mille - Franciacorta DOCG', '2400', '885 92732 0051 6', '0.13', 'Bottle', '750', 'ไวน์สปาร์คกลิ้ง', 'ไวน์', 'Sparkling Wine', 'Wine', 'Anniversary Birthday Celebration Dinner ']\n",
            "['49', 'ITLW03-BAMA', 'Barbaresco DOCG Marcarini', '2300', '885 92732 0113 1', '0.14', 'Bottle', '750', 'ไวน์แดง', 'ไวน์', 'Red Wine', 'Wine', 'Anniversary Birthday Celebration Dinner ']\n",
            "['50', 'ITLW03-BASER', \"Barolo DOCG del Cumune di Serralunga d'Alba\", '3750', '885 92732 0114 8', '0.145', 'Bottle', '750', 'ไวน์แดง', 'ไวน์', 'Red Wine', 'Wine', 'Anniversary Birthday Celebration Dinner ']\n",
            "['51', 'ITLW03-BALE', 'Barolo DOCG Leon Riserva', '4500', '885 92732 0115 5', '0.145', 'Bottle', '750', 'ไวน์แดง', 'ไวน์', 'Red Wine', 'Wine', 'Anniversary Birthday Celebration Dinner ']\n",
            "['52', 'ITLW03-BABRIC', 'Barolo DOCG Briccolina', '6900', '885 92732 0116 2', '0.145', 'Bottle', '750', 'ไวน์แดง', 'ไวน์', 'Red Wine', 'Wine', 'Anniversary Birthday Celebration Dinner ']\n",
            "['53', 'FRW01-ECS', 'EMF - Cabernet Sauvignon', '650', '885 92732 0034 9', '0.13', 'Bottle', '750', 'ไวน์แดง', 'ไวน์', 'Red Wine', 'Wine', 'Casual Dinner ']\n",
            "['54', 'FRW01-EPN', 'EMF - Pinot Noir', '650', '885 92732 0031 8', '0.125', 'Bottle', '750', 'ไวน์แดง', 'ไวน์', 'Red Wine', 'Wine', 'Casual Dinner ']\n",
            "['55', 'FRW01-EGSM', 'EMF - Grenache/Shiraz/Mouvedre', '650', '885 92732 0032 5', '0.125', 'Bottle', '750', 'ไวน์แดง', 'ไวน์', 'Red Wine', 'Wine', 'Casual Dinner ']\n",
            "['56', 'FRW01-ECH', 'EMF - Chardonnay', '650', '885 92732 0029 5', '0.13', 'Bottle', '750', 'ไวน์ขาว', 'ไวน์', 'White Wine', 'Wine', 'Casual Dinner ']\n",
            "['57', 'FRW01-ESB', 'EMF - Sauvignon Blanc', '650', '885 92732 0028 8', '0.12', 'Bottle', '750', 'ไวน์ขาว', 'ไวน์', 'White Wine', 'Wine', 'Casual Dinner ']\n",
            "['58', 'FRW01-ERS', 'EMF - Rose', '650', '885 92732 0030 1', '0.12', 'Bottle', '750', 'ไวน์โรเซ่', 'ไวน์', 'Rose Wine', 'Wine', 'Casual Dinner ']\n",
            "['59', 'FRW02-AP33', \"L'INIMITABLE - APPLE CIDER 33CL \", '350', '885 92732 0125 4', '0.055', 'Bottle', '330', 'ไซเดอร์แอปเปิ้ล', 'ไซเดอร์', 'Apple Cider', 'Cider', 'Anniversary Birthday Casual Celebration ']\n",
            "['60', 'FRW02-RS33', 'LA SULFUREUSE - ROSE CIDER 33CL', '350', '885 92732 0126 1', '0.03', 'Bottle', '330', 'ไซเดอร์โรเซ่', 'ไซเดอร์', 'Rose Cider', 'Cider', 'Anniversary Birthday Casual Celebration ']\n",
            "['61', 'FRW02-PR33', 'LE VERTUEUX - PEAR CIDER 33CL', '350', '885 92732 0127 8', '0.025', 'Bottle', '330', 'ไซเดอร์ลูกแพร์', 'ไซเดอร์', 'Pear Cider', 'Cider', 'Anniversary Birthday Casual Celebration ']\n",
            "['62', 'FRW02-AP75', \"L'INIMITABLE - APPLE CIDER 75CL\", '690', '885 92732 0128 5', '0.055', 'Bottle', '750', 'ไซเดอร์แอปเปิ้ล', 'ไซเดอร์', 'Apple Cider', 'Cider', 'Anniversary Birthday Casual Celebration ']\n",
            "['63', 'FRW02-RS75', 'LA SULFUREUSE - ROSE CIDER 75CL', '690', '885 92732 0129 2', '0.03', 'Bottle', '750', 'ไซเดอร์โรเซ่', 'ไซเดอร์', 'Rose Cider', 'Cider', 'Anniversary Birthday Casual Celebration ']\n",
            "['64', 'FRW02-PR75', 'LE VERTUEUX - PEAR CIDER 75CL', '690', '885 92732 0130 8', '0.025', 'Bottle', '750', 'ไซเดอร์ลูกแพร์', 'ไซเดอร์', 'Pear Cider', 'Cider', 'Anniversary Birthday Casual Celebration ']\n",
            "['65', 'THW01-CHOO', 'Choojai Rice Wine', '199', '885 92732 0069 1', '0.11', 'Bottle', '700', 'ไวน์ข้าว', 'ไวน์ข้าว', 'Rice Wine', 'RiceWine', 'Casual ']\n",
            "['66', 'THW01-PITI', 'Piti Tea Rice Wine', '199', '885 92732 0070 7', '0.1', 'Bottle', '700', 'ไวน์ข้าวชา', 'ไวน์ข้าว', 'Tea-Rice Wine', 'RiceWine', 'Casual ']\n",
            "['67', 'THW01-MANEE', 'Manee Flowery Rice Wine', '199', '885 92732 0071 4', '0.08', 'Bottle', '700', 'ไวน์ข้าวดอกไม้', 'ไวน์ข้าว', 'Flower-Rice Wine', 'RiceWine', 'Casual ']\n",
            "['68', 'THW01-MANA', \"Come'on Rice Wine\", '199', '885 92732 0072 1', '0.07', 'Bottle', '700', 'ไวน์ข้าวมะพร้าว', 'ไวน์ข้าว', 'Coconut-Rice Wine', 'RiceWine', 'Casual ']\n",
            "['69', 'ALPA', 'Alpagold', '190', '886 92732 0126 1', '0.048', 'Bottle', '330', 'เบียร์ลาเกอร์', 'เบียร์', 'Lager', 'Beer', 'Birthday Casual Celebration ']\n",
            "['70', 'CL-01', 'Coffee Stout', '190', '886 92732 0127 8', '0.055', 'Bottle', '330', 'เบียร์สเตาต์', 'เบียร์', 'Stout', 'Beer', 'Casual Celebration ']\n",
            "['71', 'CL-02', 'Alpen Pale Ale', '190', '886 92732 0128 5', '0.054', 'Bottle', '330', 'เบียร์เอล', 'เบียร์', 'Ale', 'Beer', 'Casual Celebration Dinner ']\n",
            "['72', 'CL-03', 'Bock Stark', '190', '886 92732 0129 2', '0.068', 'Bottle', '330', 'บ็อคเบียร์', 'เบียร์', 'Bock', 'Beer', 'Casual Celebration Dinner ']\n",
            "['73', 'CL-04', 'Hoppla! Hoppy Lager', '190', '886 92732 0130 8', '0.049', 'Bottle', '330', 'เบียร์ลาเกอร์', 'เบียร์', 'Lager', 'Beer', 'Casual Celebration ']\n",
            "['74', 'CL-05', 'Wiesn Rausch', '190', '886 92732 0069 1', '0.058', 'Bottle', '330', 'มอล์ตเบียร์', 'เบียร์', 'Malt beer', 'Beer', 'Casual Celebration Dinner ']\n",
            "['75', 'CL-06', 'Summer Ale', '190', '886 92732 0070 7', '0.04', 'Bottle', '330', 'เบียร์เอล', 'เบียร์', 'Ale', 'Beer', 'Casual Celebration ']\n",
            "['76', 'LIME', 'Lime', '190', '886 92732 0071 4', '0.025', 'Bottle', '330', 'เบียร์ลาเกอร์', 'เบียร์', 'Lager', 'Beer', 'Birthday Casual Celebration ']\n",
            "Processed 78 lines.\n",
            "Done\n"
          ]
        }
      ]
    },
    {
      "cell_type": "code",
      "source": [
        ""
      ],
      "metadata": {
        "id": "0CPdE9eapL6v"
      },
      "execution_count": null,
      "outputs": []
    }
  ]
}